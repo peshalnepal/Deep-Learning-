{
  "cells": [
    {
      "cell_type": "code",
      "source": [
        "num=10\n",
        "for nums in 10:\n",
        "  "
      ],
      "metadata": {
        "id": "pMAfWJH2mnab"
      },
      "execution_count": null,
      "outputs": []
    },
    {
      "cell_type": "code",
      "source": [
        "import torch\n",
        "import torchvision\n",
        "from torchvision.models import resnet50,vgg16\n",
        "from torchvision.transforms import transforms\n",
        "import cv2\n",
        "from torchvision.transforms.autoaugment import InterpolationMode"
      ],
      "metadata": {
        "id": "CiSecDMlx3gn"
      },
      "execution_count": null,
      "outputs": []
    },
    {
      "cell_type": "code",
      "source": [
        "device=torch.device(0) if torch.cuda.is_available() else torch.device(\"cpu\")"
      ],
      "metadata": {
        "id": "F0e2CSt4kVKW"
      },
      "execution_count": null,
      "outputs": []
    },
    {
      "cell_type": "code",
      "source": [
        "transform = transforms.Compose(\n",
        "    [transforms.Resize((227,227)) ,\n",
        "     transforms.ToTensor(),\n",
        "     transforms.Normalize((0.5, 0.5, 0.5), (0.5, 0.5, 0.5))])"
      ],
      "metadata": {
        "id": "KvMNvvOrDK6b"
      },
      "execution_count": null,
      "outputs": []
    },
    {
      "cell_type": "code",
      "source": [
        "batch_size = 16\n",
        "\n",
        "trainset = torchvision.datasets.CIFAR10(root='./data', train=True,\n",
        "                                        download=True, transform=transform)\n",
        "trainloader = torch.utils.data.DataLoader(trainset, batch_size=batch_size,\n",
        "                                          shuffle=True, num_workers=2)\n",
        "\n",
        "testset = torchvision.datasets.CIFAR10(root='./data', train=False,\n",
        "                                       download=True, transform=transform)\n",
        "testloader = torch.utils.data.DataLoader(testset, batch_size=batch_size,\n",
        "                                         shuffle=False, num_workers=2)\n",
        "\n",
        "classes = ('plane', 'car', 'bird', 'cat',\n",
        "           'deer', 'dog', 'frog', 'horse', 'ship', 'truck')"
      ],
      "metadata": {
        "colab": {
          "base_uri": "https://localhost:8080/",
          "height": 104,
          "referenced_widgets": [
            "e8059df8258c4f74bfda262b997a7552",
            "d58aba6718a84e989eeaf3cfbaa405aa",
            "1b28e41c670942b0befaefa03a69041a",
            "1eaf5cbbad3b49669588fafdd2787296",
            "edd1ee65a26c4c9685bd6ace0f6e8eb5",
            "12bf73ec3f2143a5b3758108899dd42e",
            "468e0734ece54390918ec6a43d2922ac",
            "18ad5f950f274998b5265562a3a44408",
            "3c05d6c0c54b43cfb27c790535ec978e",
            "c2643a1ae4824729bb2c5f3fba19ea69",
            "fea8960f259e419a8cf606082629f536"
          ]
        },
        "id": "9hrSpv31aUsO",
        "outputId": "8a293f4c-fc50-4bcd-ac88-e0f60a61e9ee"
      },
      "execution_count": null,
      "outputs": [
        {
          "output_type": "stream",
          "name": "stdout",
          "text": [
            "Downloading https://www.cs.toronto.edu/~kriz/cifar-10-python.tar.gz to ./data/cifar-10-python.tar.gz\n"
          ]
        },
        {
          "output_type": "display_data",
          "data": {
            "text/plain": [
              "  0%|          | 0/170498071 [00:00<?, ?it/s]"
            ],
            "application/vnd.jupyter.widget-view+json": {
              "version_major": 2,
              "version_minor": 0,
              "model_id": "e8059df8258c4f74bfda262b997a7552"
            }
          },
          "metadata": {}
        },
        {
          "output_type": "stream",
          "name": "stdout",
          "text": [
            "Extracting ./data/cifar-10-python.tar.gz to ./data\n",
            "Files already downloaded and verified\n"
          ]
        }
      ]
    },
    {
      "cell_type": "code",
      "source": [
        "model=vgg16(weights=\"DEFAULT\")\n",
        "total_layers=0\n",
        "for child in model.children():\n",
        "  total_layers+=1\n",
        "  if total_layers<3:\n",
        "    for param in child.parameters():\n",
        "      param.requires_grad=False\n",
        "# model.fc=torch.nn.Linear(2048,10,bias=True)"
      ],
      "metadata": {
        "id": "NM6kYmfdxbSV"
      },
      "execution_count": null,
      "outputs": []
    },
    {
      "cell_type": "code",
      "source": [
        "# (classifier): Sequential(\n",
        "#     (0): Linear(in_features=25088, out_features=4096, bias=True)\n",
        "#     (1): ReLU(inplace=True)\n",
        "#     (2): Dropout(p=0.5, inplace=False)\n",
        "#     (3): Linear(in_features=4096, out_features=4096, bias=True)\n",
        "#     (4): ReLU(inplace=True)\n",
        "#     (5): Dropout(p=0.5, inplace=False)\n",
        "#     (6): Linear(in_features=4096, out_features=1000, bias=True)\n",
        "#   )"
      ],
      "metadata": {
        "id": "b2MOg2p4dzSU"
      },
      "execution_count": null,
      "outputs": []
    },
    {
      "cell_type": "code",
      "source": [
        "model.classifier=torch.nn.Sequential(*[\n",
        "    torch.nn.Linear(in_features=25088, out_features=4096, bias=True),\n",
        "    torch.nn.ReLU(),\n",
        "    torch.nn.Dropout(p=0.5),\n",
        "    torch.nn.Linear(in_features=4096, out_features=2048, bias=True),\n",
        "    torch.nn.ReLU(),\n",
        "    torch.nn.Dropout(p=0.5),\n",
        "    torch.nn.Linear(in_features=2048, out_features=10, bias=True)\n",
        "])"
      ],
      "metadata": {
        "id": "Y_RAnzpdczq8"
      },
      "execution_count": null,
      "outputs": []
    },
    {
      "cell_type": "code",
      "source": [
        "model=model.to(device)\n",
        "model.load_state_dict(torch.load(\"/content/gdrive/MyDrive/important do not delete/pretrained_vgg16.pth\"))"
      ],
      "metadata": {
        "id": "0v6nYmwgeu_c",
        "colab": {
          "base_uri": "https://localhost:8080/"
        },
        "outputId": "98cc1742-4e7e-47e1-c893-a22126081e89"
      },
      "execution_count": null,
      "outputs": [
        {
          "output_type": "execute_result",
          "data": {
            "text/plain": [
              "<All keys matched successfully>"
            ]
          },
          "metadata": {},
          "execution_count": 19
        }
      ]
    },
    {
      "cell_type": "code",
      "source": [
        "criterion = torch.nn.CrossEntropyLoss()\n",
        "optimizer = torch.optim.Adam(model.parameters(), lr=0.001)"
      ],
      "metadata": {
        "id": "VhYM91N-MV8U"
      },
      "execution_count": null,
      "outputs": []
    },
    {
      "cell_type": "code",
      "source": [
        "for epoch in range(2):  # loop over the dataset multiple times\n",
        "\n",
        "    running_loss = 0.0\n",
        "    for i, data in enumerate(trainloader, 0):\n",
        "        # get the inputs; data is a list of [inputs, labels]\n",
        "        inputs, labels = data\n",
        "        inputs=inputs.to(device)\n",
        "        labels=labels.to(device)\n",
        "        # print(inputs.shape)\n",
        "        # zero the parameter gradients\n",
        "        optimizer.zero_grad()\n",
        "\n",
        "        # forward + backward + optimize\n",
        "        outputs = model(inputs)\n",
        "        loss = criterion(outputs, labels)\n",
        "        loss.backward()\n",
        "        optimizer.step()\n",
        "\n",
        "        # print statistics\n",
        "        running_loss += loss.item()\n",
        "        if i % 100 == 99:    # print every 2000 mini-batches\n",
        "            print(f'[{epoch + 1}, {i + 1:5d}] loss: {running_loss / 100:.3f}')\n",
        "            running_loss = 0.0\n",
        "\n",
        "print('Finished Training')"
      ],
      "metadata": {
        "colab": {
          "base_uri": "https://localhost:8080/"
        },
        "id": "zwjZgHFaOX0P",
        "outputId": "d73dfc05-8ac2-4ac7-ef41-c39237e6a05e"
      },
      "execution_count": null,
      "outputs": [
        {
          "output_type": "stream",
          "name": "stdout",
          "text": [
            "[1,   100] loss: 0.503\n",
            "[1,   200] loss: 0.546\n",
            "[1,   300] loss: 0.558\n",
            "[1,   400] loss: 0.504\n",
            "[1,   500] loss: 0.650\n",
            "[1,   600] loss: 0.652\n",
            "[1,   700] loss: 0.644\n",
            "[1,   800] loss: 0.543\n",
            "[1,   900] loss: 0.648\n",
            "[1,  1000] loss: 0.650\n",
            "[1,  1100] loss: 0.611\n",
            "[1,  1200] loss: 0.700\n",
            "[1,  1300] loss: 0.655\n",
            "[1,  1400] loss: 0.688\n",
            "[1,  1500] loss: 0.572\n",
            "[1,  1600] loss: 0.639\n",
            "[1,  1700] loss: 0.652\n",
            "[1,  1800] loss: 0.707\n",
            "[1,  1900] loss: 0.579\n",
            "[1,  2000] loss: 0.651\n",
            "[1,  2100] loss: 0.656\n",
            "[1,  2200] loss: 0.620\n",
            "[1,  2300] loss: 0.650\n",
            "[1,  2400] loss: 0.526\n",
            "[1,  2500] loss: 0.585\n",
            "[1,  2600] loss: 0.676\n",
            "[1,  2700] loss: 0.656\n",
            "[1,  2800] loss: 0.639\n",
            "[1,  2900] loss: 0.619\n",
            "[1,  3000] loss: 0.549\n",
            "[1,  3100] loss: 0.676\n",
            "[2,   100] loss: 0.469\n",
            "[2,   200] loss: 0.507\n",
            "[2,   300] loss: 0.558\n",
            "[2,   400] loss: 0.594\n",
            "[2,   500] loss: 0.504\n",
            "[2,   600] loss: 0.569\n",
            "[2,   700] loss: 0.518\n",
            "[2,   800] loss: 0.582\n",
            "[2,   900] loss: 0.514\n",
            "[2,  1000] loss: 0.428\n",
            "[2,  1100] loss: 0.521\n",
            "[2,  1200] loss: 0.556\n",
            "[2,  1300] loss: 0.554\n",
            "[2,  1400] loss: 0.521\n",
            "[2,  1500] loss: 0.596\n",
            "[2,  1600] loss: 0.507\n",
            "[2,  1700] loss: 0.526\n",
            "[2,  1800] loss: 0.479\n",
            "[2,  1900] loss: 0.493\n",
            "[2,  2000] loss: 0.493\n",
            "[2,  2100] loss: 0.582\n",
            "[2,  2200] loss: 0.620\n",
            "[2,  2300] loss: 0.538\n",
            "[2,  2400] loss: 0.511\n",
            "[2,  2500] loss: 0.566\n",
            "[2,  2600] loss: 0.571\n",
            "[2,  2700] loss: 0.628\n",
            "[2,  2800] loss: 0.585\n",
            "[2,  2900] loss: 0.505\n",
            "[2,  3000] loss: 0.447\n",
            "[2,  3100] loss: 0.511\n",
            "Finished Training\n"
          ]
        }
      ]
    },
    {
      "cell_type": "code",
      "source": [
        "from google.colab import drive\n",
        "\n",
        "drive.mount(\"/content/gdrive\")\n"
      ],
      "metadata": {
        "colab": {
          "base_uri": "https://localhost:8080/"
        },
        "id": "hpJWsm4IxGzj",
        "outputId": "20895f6c-c6fd-4f38-ee1a-a343eea65ebb"
      },
      "execution_count": null,
      "outputs": [
        {
          "output_type": "stream",
          "name": "stdout",
          "text": [
            "Mounted at /content/gdrive\n"
          ]
        }
      ]
    },
    {
      "cell_type": "code",
      "source": [
        "torch.save(model.state_dict(), \"/content/gdrive/MyDrive/important do not delete/pretrained_vgg16.pth\")\n"
      ],
      "metadata": {
        "id": "THkdRLFVbAZU"
      },
      "execution_count": null,
      "outputs": []
    },
    {
      "cell_type": "code",
      "source": [],
      "metadata": {
        "id": "6xAcI70Vxj6G"
      },
      "execution_count": null,
      "outputs": []
    }
  ],
  "metadata": {
    "colab": {
      "provenance": []
    },
    "gpuClass": "standard",
    "kernelspec": {
      "display_name": "Python 3",
      "name": "python3"
    },
    "language_info": {
      "name": "python"
    },
    "accelerator": "GPU",
    "widgets": {
      "application/vnd.jupyter.widget-state+json": {
        "e8059df8258c4f74bfda262b997a7552": {
          "model_module": "@jupyter-widgets/controls",
          "model_name": "HBoxModel",
          "model_module_version": "1.5.0",
          "state": {
            "_dom_classes": [],
            "_model_module": "@jupyter-widgets/controls",
            "_model_module_version": "1.5.0",
            "_model_name": "HBoxModel",
            "_view_count": null,
            "_view_module": "@jupyter-widgets/controls",
            "_view_module_version": "1.5.0",
            "_view_name": "HBoxView",
            "box_style": "",
            "children": [
              "IPY_MODEL_d58aba6718a84e989eeaf3cfbaa405aa",
              "IPY_MODEL_1b28e41c670942b0befaefa03a69041a",
              "IPY_MODEL_1eaf5cbbad3b49669588fafdd2787296"
            ],
            "layout": "IPY_MODEL_edd1ee65a26c4c9685bd6ace0f6e8eb5"
          }
        },
        "d58aba6718a84e989eeaf3cfbaa405aa": {
          "model_module": "@jupyter-widgets/controls",
          "model_name": "HTMLModel",
          "model_module_version": "1.5.0",
          "state": {
            "_dom_classes": [],
            "_model_module": "@jupyter-widgets/controls",
            "_model_module_version": "1.5.0",
            "_model_name": "HTMLModel",
            "_view_count": null,
            "_view_module": "@jupyter-widgets/controls",
            "_view_module_version": "1.5.0",
            "_view_name": "HTMLView",
            "description": "",
            "description_tooltip": null,
            "layout": "IPY_MODEL_12bf73ec3f2143a5b3758108899dd42e",
            "placeholder": "​",
            "style": "IPY_MODEL_468e0734ece54390918ec6a43d2922ac",
            "value": "100%"
          }
        },
        "1b28e41c670942b0befaefa03a69041a": {
          "model_module": "@jupyter-widgets/controls",
          "model_name": "FloatProgressModel",
          "model_module_version": "1.5.0",
          "state": {
            "_dom_classes": [],
            "_model_module": "@jupyter-widgets/controls",
            "_model_module_version": "1.5.0",
            "_model_name": "FloatProgressModel",
            "_view_count": null,
            "_view_module": "@jupyter-widgets/controls",
            "_view_module_version": "1.5.0",
            "_view_name": "ProgressView",
            "bar_style": "success",
            "description": "",
            "description_tooltip": null,
            "layout": "IPY_MODEL_18ad5f950f274998b5265562a3a44408",
            "max": 170498071,
            "min": 0,
            "orientation": "horizontal",
            "style": "IPY_MODEL_3c05d6c0c54b43cfb27c790535ec978e",
            "value": 170498071
          }
        },
        "1eaf5cbbad3b49669588fafdd2787296": {
          "model_module": "@jupyter-widgets/controls",
          "model_name": "HTMLModel",
          "model_module_version": "1.5.0",
          "state": {
            "_dom_classes": [],
            "_model_module": "@jupyter-widgets/controls",
            "_model_module_version": "1.5.0",
            "_model_name": "HTMLModel",
            "_view_count": null,
            "_view_module": "@jupyter-widgets/controls",
            "_view_module_version": "1.5.0",
            "_view_name": "HTMLView",
            "description": "",
            "description_tooltip": null,
            "layout": "IPY_MODEL_c2643a1ae4824729bb2c5f3fba19ea69",
            "placeholder": "​",
            "style": "IPY_MODEL_fea8960f259e419a8cf606082629f536",
            "value": " 170498071/170498071 [00:02&lt;00:00, 60706669.67it/s]"
          }
        },
        "edd1ee65a26c4c9685bd6ace0f6e8eb5": {
          "model_module": "@jupyter-widgets/base",
          "model_name": "LayoutModel",
          "model_module_version": "1.2.0",
          "state": {
            "_model_module": "@jupyter-widgets/base",
            "_model_module_version": "1.2.0",
            "_model_name": "LayoutModel",
            "_view_count": null,
            "_view_module": "@jupyter-widgets/base",
            "_view_module_version": "1.2.0",
            "_view_name": "LayoutView",
            "align_content": null,
            "align_items": null,
            "align_self": null,
            "border": null,
            "bottom": null,
            "display": null,
            "flex": null,
            "flex_flow": null,
            "grid_area": null,
            "grid_auto_columns": null,
            "grid_auto_flow": null,
            "grid_auto_rows": null,
            "grid_column": null,
            "grid_gap": null,
            "grid_row": null,
            "grid_template_areas": null,
            "grid_template_columns": null,
            "grid_template_rows": null,
            "height": null,
            "justify_content": null,
            "justify_items": null,
            "left": null,
            "margin": null,
            "max_height": null,
            "max_width": null,
            "min_height": null,
            "min_width": null,
            "object_fit": null,
            "object_position": null,
            "order": null,
            "overflow": null,
            "overflow_x": null,
            "overflow_y": null,
            "padding": null,
            "right": null,
            "top": null,
            "visibility": null,
            "width": null
          }
        },
        "12bf73ec3f2143a5b3758108899dd42e": {
          "model_module": "@jupyter-widgets/base",
          "model_name": "LayoutModel",
          "model_module_version": "1.2.0",
          "state": {
            "_model_module": "@jupyter-widgets/base",
            "_model_module_version": "1.2.0",
            "_model_name": "LayoutModel",
            "_view_count": null,
            "_view_module": "@jupyter-widgets/base",
            "_view_module_version": "1.2.0",
            "_view_name": "LayoutView",
            "align_content": null,
            "align_items": null,
            "align_self": null,
            "border": null,
            "bottom": null,
            "display": null,
            "flex": null,
            "flex_flow": null,
            "grid_area": null,
            "grid_auto_columns": null,
            "grid_auto_flow": null,
            "grid_auto_rows": null,
            "grid_column": null,
            "grid_gap": null,
            "grid_row": null,
            "grid_template_areas": null,
            "grid_template_columns": null,
            "grid_template_rows": null,
            "height": null,
            "justify_content": null,
            "justify_items": null,
            "left": null,
            "margin": null,
            "max_height": null,
            "max_width": null,
            "min_height": null,
            "min_width": null,
            "object_fit": null,
            "object_position": null,
            "order": null,
            "overflow": null,
            "overflow_x": null,
            "overflow_y": null,
            "padding": null,
            "right": null,
            "top": null,
            "visibility": null,
            "width": null
          }
        },
        "468e0734ece54390918ec6a43d2922ac": {
          "model_module": "@jupyter-widgets/controls",
          "model_name": "DescriptionStyleModel",
          "model_module_version": "1.5.0",
          "state": {
            "_model_module": "@jupyter-widgets/controls",
            "_model_module_version": "1.5.0",
            "_model_name": "DescriptionStyleModel",
            "_view_count": null,
            "_view_module": "@jupyter-widgets/base",
            "_view_module_version": "1.2.0",
            "_view_name": "StyleView",
            "description_width": ""
          }
        },
        "18ad5f950f274998b5265562a3a44408": {
          "model_module": "@jupyter-widgets/base",
          "model_name": "LayoutModel",
          "model_module_version": "1.2.0",
          "state": {
            "_model_module": "@jupyter-widgets/base",
            "_model_module_version": "1.2.0",
            "_model_name": "LayoutModel",
            "_view_count": null,
            "_view_module": "@jupyter-widgets/base",
            "_view_module_version": "1.2.0",
            "_view_name": "LayoutView",
            "align_content": null,
            "align_items": null,
            "align_self": null,
            "border": null,
            "bottom": null,
            "display": null,
            "flex": null,
            "flex_flow": null,
            "grid_area": null,
            "grid_auto_columns": null,
            "grid_auto_flow": null,
            "grid_auto_rows": null,
            "grid_column": null,
            "grid_gap": null,
            "grid_row": null,
            "grid_template_areas": null,
            "grid_template_columns": null,
            "grid_template_rows": null,
            "height": null,
            "justify_content": null,
            "justify_items": null,
            "left": null,
            "margin": null,
            "max_height": null,
            "max_width": null,
            "min_height": null,
            "min_width": null,
            "object_fit": null,
            "object_position": null,
            "order": null,
            "overflow": null,
            "overflow_x": null,
            "overflow_y": null,
            "padding": null,
            "right": null,
            "top": null,
            "visibility": null,
            "width": null
          }
        },
        "3c05d6c0c54b43cfb27c790535ec978e": {
          "model_module": "@jupyter-widgets/controls",
          "model_name": "ProgressStyleModel",
          "model_module_version": "1.5.0",
          "state": {
            "_model_module": "@jupyter-widgets/controls",
            "_model_module_version": "1.5.0",
            "_model_name": "ProgressStyleModel",
            "_view_count": null,
            "_view_module": "@jupyter-widgets/base",
            "_view_module_version": "1.2.0",
            "_view_name": "StyleView",
            "bar_color": null,
            "description_width": ""
          }
        },
        "c2643a1ae4824729bb2c5f3fba19ea69": {
          "model_module": "@jupyter-widgets/base",
          "model_name": "LayoutModel",
          "model_module_version": "1.2.0",
          "state": {
            "_model_module": "@jupyter-widgets/base",
            "_model_module_version": "1.2.0",
            "_model_name": "LayoutModel",
            "_view_count": null,
            "_view_module": "@jupyter-widgets/base",
            "_view_module_version": "1.2.0",
            "_view_name": "LayoutView",
            "align_content": null,
            "align_items": null,
            "align_self": null,
            "border": null,
            "bottom": null,
            "display": null,
            "flex": null,
            "flex_flow": null,
            "grid_area": null,
            "grid_auto_columns": null,
            "grid_auto_flow": null,
            "grid_auto_rows": null,
            "grid_column": null,
            "grid_gap": null,
            "grid_row": null,
            "grid_template_areas": null,
            "grid_template_columns": null,
            "grid_template_rows": null,
            "height": null,
            "justify_content": null,
            "justify_items": null,
            "left": null,
            "margin": null,
            "max_height": null,
            "max_width": null,
            "min_height": null,
            "min_width": null,
            "object_fit": null,
            "object_position": null,
            "order": null,
            "overflow": null,
            "overflow_x": null,
            "overflow_y": null,
            "padding": null,
            "right": null,
            "top": null,
            "visibility": null,
            "width": null
          }
        },
        "fea8960f259e419a8cf606082629f536": {
          "model_module": "@jupyter-widgets/controls",
          "model_name": "DescriptionStyleModel",
          "model_module_version": "1.5.0",
          "state": {
            "_model_module": "@jupyter-widgets/controls",
            "_model_module_version": "1.5.0",
            "_model_name": "DescriptionStyleModel",
            "_view_count": null,
            "_view_module": "@jupyter-widgets/base",
            "_view_module_version": "1.2.0",
            "_view_name": "StyleView",
            "description_width": ""
          }
        }
      }
    }
  },
  "nbformat": 4,
  "nbformat_minor": 0
}