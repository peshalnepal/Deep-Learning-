{
  "nbformat": 4,
  "nbformat_minor": 0,
  "metadata": {
    "colab": {
      "provenance": []
    },
    "kernelspec": {
      "name": "python3",
      "display_name": "Python 3"
    },
    "language_info": {
      "name": "python"
    },
    "accelerator": "GPU",
    "gpuClass": "standard"
  },
  "cells": [
    {
      "cell_type": "code",
      "source": [
        "import numpy as np\n",
        "from numpy.random import randn\n",
        "from numpy import random"
      ],
      "metadata": {
        "id": "CP_UoZYBx-d7"
      },
      "execution_count": null,
      "outputs": []
    },
    {
      "cell_type": "code",
      "execution_count": null,
      "metadata": {
        "id": "NoqO31DCRTao"
      },
      "outputs": [],
      "source": [
        "train_data = {\n",
        "  'good': True,\n",
        "  'bad': False,\n",
        "  'happy': True,\n",
        "  'sad': False,\n",
        "  'not good': False,\n",
        "  'not bad': True,\n",
        "  'not happy': False,\n",
        "  'not sad': True,\n",
        "  'very good': True,\n",
        "  'very bad': False,\n",
        "  'very happy': True,\n",
        "  'very sad': False,\n",
        "  'i am happy': True,\n",
        "  'this is good': True,\n",
        "  'i am bad': False,\n",
        "  'this is bad': False,\n",
        "  'i am sad': False,\n",
        "  'this is sad': False,\n",
        "  'i am not happy': False,\n",
        "  'this is not good': False,\n",
        "  'i am not bad': True,\n",
        "  'this is not sad': True,\n",
        "  'i am very happy': True,\n",
        "  'this is very good': True,\n",
        "  'i am very bad': False,\n",
        "  'this is very sad': False,\n",
        "  'this is very happy': True,\n",
        "  'i am good not bad': True,\n",
        "  'this is good not bad': True,\n",
        "  'i am bad not good': False,\n",
        "  'i am good and happy': True,\n",
        "  'this is not good and not happy': False,\n",
        "  'i am not at all good': False,\n",
        "  'i am not at all bad': True,\n",
        "  'i am not at all happy': False,\n",
        "  'this is not at all sad': True,\n",
        "  'this is not at all happy': False,\n",
        "  'i am good right now': True,\n",
        "  'i am bad right now': False,\n",
        "  'this is bad right now': False,\n",
        "  'i am sad right now': False,\n",
        "  'i was good earlier': True,\n",
        "  'i was happy earlier': True,\n",
        "  'i was bad earlier': False,\n",
        "  'i was sad earlier': False,\n",
        "  'i am very bad right now': False,\n",
        "  'this is very good right now': True,\n",
        "  'this is very sad right now': False,\n",
        "  'this was bad earlier': False,\n",
        "  'this was very good earlier': True,\n",
        "  'this was very bad earlier': False,\n",
        "  'this was very happy earlier': True,\n",
        "  'this was very sad earlier': False,\n",
        "  'i was good and not bad earlier': True,\n",
        "  'i was not good and not happy earlier': False,\n",
        "  'i am not at all bad or sad right now': True,\n",
        "  'i am not at all good or happy right now': False,\n",
        "  'this was not happy and not good earlier': False,\n",
        "}\n",
        "\n",
        "test_data = {\n",
        "  'this is happy': True,\n",
        "  'i am good': True,\n",
        "  'this is not happy': False,\n",
        "  'i am not good': False,\n",
        "  'this is not bad': True,\n",
        "  'i am not sad': True,\n",
        "  'i am very good': True,\n",
        "  'this is very bad': False,\n",
        "  'i am very sad': False,\n",
        "  'this is bad not good': False,\n",
        "  'this is good and happy': True,\n",
        "  'i am not good and not happy': False,\n",
        "  'i am not at all sad': True,\n",
        "  'this is not at all good': False,\n",
        "  'this is not at all bad': True,\n",
        "  'this is good right now': True,\n",
        "  'this is sad right now': False,\n",
        "  'this is very bad right now': False,\n",
        "  'this was good earlier': True,\n",
        "  'i was not happy and not good earlier': False,\n",
        "}"
      ]
    },
    {
      "cell_type": "code",
      "source": [
        "vocab = list(set([w for text in train_data.keys() for w in text.split(' ')]))\n",
        "vocab_size = len(vocab)\n",
        "print('%d unique words found' % vocab_size) "
      ],
      "metadata": {
        "colab": {
          "base_uri": "https://localhost:8080/"
        },
        "id": "7lk4EjJ8RaKH",
        "outputId": "30520789-a76e-4a30-a49b-4b6946e122e3"
      },
      "execution_count": null,
      "outputs": [
        {
          "output_type": "stream",
          "name": "stdout",
          "text": [
            "18 unique words found\n"
          ]
        }
      ]
    },
    {
      "cell_type": "code",
      "source": [
        "# Assign indices to each word.\n",
        "word_to_idx = { w: i for i, w in enumerate(vocab) }\n",
        "idx_to_word = { i: w for i, w in enumerate(vocab) }\n",
        "print(word_to_idx['good']) # 16 (this may change)\n",
        "print(idx_to_word[0]) # sad (this may change)"
      ],
      "metadata": {
        "colab": {
          "base_uri": "https://localhost:8080/"
        },
        "id": "Fgs9Rs_4R6Ev",
        "outputId": "fbb94f9a-43f6-4c93-940f-a4bc99800375"
      },
      "execution_count": null,
      "outputs": [
        {
          "output_type": "stream",
          "name": "stdout",
          "text": [
            "8\n",
            "at\n"
          ]
        }
      ]
    },
    {
      "cell_type": "code",
      "source": [
        "import numpy as np\n",
        "\n",
        "def createInputs(text):\n",
        "  '''\n",
        "  Returns an array of one-hot vectors representing the words\n",
        "  in the input text string.\n",
        "  - text is a string\n",
        "  - Each one-hot vector has shape (vocab_size, 1)\n",
        "  '''\n",
        "  inputs = []\n",
        "  for w in text.split(' '):\n",
        "    v = np.zeros((vocab_size, 1))\n",
        "    v[word_to_idx[w]] = 1\n",
        "    inputs.append(v)\n",
        "  return inputs\n"
      ],
      "metadata": {
        "id": "U9E5xC7QR9xw"
      },
      "execution_count": null,
      "outputs": []
    },
    {
      "cell_type": "code",
      "source": [
        "import numpy as np\n",
        "from numpy.random import randn\n",
        "\n",
        "class RNN:\n",
        "  # A Vanilla Recurrent Neural Network.\n",
        "\n",
        "  def __init__(self, input_size, output_size, hidden_size=64):\n",
        "    # Weights\n",
        "    self.Whh = randn(hidden_size, hidden_size) / 1000\n",
        "    self.Wxh = randn(hidden_size, input_size) / 1000\n",
        "    self.Why = randn(output_size, hidden_size) / 1000\n",
        "\n",
        "    # Biases\n",
        "    self.bh = np.zeros((hidden_size, 1))\n",
        "    self.by = np.zeros((output_size, 1))\n",
        "    self.inputs=None\n",
        "  \n",
        "  def forward(self, inputs):\n",
        "    '''\n",
        "    Perform a forward pass of the RNN using the given inputs.\n",
        "    Returns the final output and hidden state.\n",
        "    - inputs is an array of one-hot vectors with shape (input_size, 1).\n",
        "    '''\n",
        "    self.inputs=inputs\n",
        "    h = np.zeros((self.Whh.shape[0], 1))\n",
        "    self.last_inputs = inputs\n",
        "    self.last_hs = { 0: h }\n",
        "    # Perform each step of the RNN\n",
        "    for i, x in enumerate(inputs):\n",
        "      h = np.tanh(self.Wxh @ x + self.Whh @ h + self.bh)\n",
        "      self.last_hs[i + 1] = h\n",
        "\n",
        "    # Compute the output\n",
        "    y = self.Why @ h + self.by\n",
        "\n",
        "    return y, h\n",
        "      \n",
        "  def backprop(self, d_y, learn_rate=2e-2):\n",
        "      '''\n",
        "      Perform a backward pass of the RNN.\n",
        "      - d_y (dL/dy) has shape (output_size, 1).\n",
        "      - learn_rate is a float.\n",
        "      '''\n",
        "      n = len(self.last_inputs)\n",
        "\n",
        "      # Calculate dL/dWhy and dL/dby.\n",
        "      d_Why = d_y @ self.last_hs[n].T\n",
        "      d_by = d_y\n",
        "\n",
        "      # Initialize dL/dWhh, dL/dWxh, and dL/dbh to zero.\n",
        "      d_Whh = np.zeros(self.Whh.shape)\n",
        "      d_Wxh = np.zeros(self.Wxh.shape)\n",
        "      d_bh = np.zeros(self.bh.shape)\n",
        "\n",
        "      # Calculate dL/dh for the last h.\n",
        "      d_h = self.Why.T @ d_y\n",
        "\n",
        "      # Backpropagate through time.\n",
        "      for t in reversed(range(n)):\n",
        "        # An intermediate value: dL/dh * (1 - h^2)\n",
        "        temp = ((1 - self.last_hs[t + 1] ** 2) * d_h)\n",
        "\n",
        "        # dL/db = dL/dh * (1 - h^2)\n",
        "        d_bh += temp\n",
        "\n",
        "        # dL/dWhh = dL/dh * (1 - h^2) * h_{t-1}\n",
        "        d_Whh += temp @ self.last_hs[t].T\n",
        "\n",
        "        # dL/dWxh = dL/dh * (1 - h^2) * x\n",
        "        d_Wxh += temp @ self.last_inputs[t].T\n",
        "\n",
        "        # Next dL/dh = dL/dh * (1 - h^2) * Whh\n",
        "        d_h = self.Whh @ temp\n",
        "\n",
        "      # Clip to prevent exploding gradients.\n",
        "      for d in [d_Wxh, d_Whh, d_Why, d_bh, d_by]:\n",
        "        np.clip(d, -1, 1, out=d)\n",
        "\n",
        "      # Update weights and biases using gradient descent.\n",
        "      self.Whh -= learn_rate * d_Whh\n",
        "      self.Wxh -= learn_rate * d_Wxh\n",
        "      self.Why -= learn_rate * d_Why\n",
        "      self.bh -= learn_rate * d_bh\n",
        "      self.by -= learn_rate * d_by"
      ],
      "metadata": {
        "id": "DuDIDMf-SWed"
      },
      "execution_count": null,
      "outputs": []
    },
    {
      "cell_type": "code",
      "source": [
        "def softmax(xs):\n",
        "  # Applies the Softmax Function to the input array.\n",
        "  return np.exp(xs) / sum(np.exp(xs))\n",
        "\n",
        "rnn = RNN(vocab_size, 2)\n",
        "\n",
        "inputs = createInputs('i am very good')\n",
        "out, h = rnn.forward(inputs)\n",
        "probs = softmax(out)\n",
        "print(probs) # [[0.50000095], [0.49999905]]"
      ],
      "metadata": {
        "colab": {
          "base_uri": "https://localhost:8080/"
        },
        "id": "hZfjU8QzSl_V",
        "outputId": "46897cdf-8555-46cf-9665-35c86577231c"
      },
      "execution_count": null,
      "outputs": [
        {
          "output_type": "stream",
          "name": "stdout",
          "text": [
            "[[0.50000002]\n",
            " [0.49999998]]\n"
          ]
        }
      ]
    },
    {
      "cell_type": "code",
      "source": [
        "def processData(data, backprop=True):\n",
        "  '''\n",
        "  Returns the RNN's loss and accuracy for the given data.\n",
        "  - data is a dictionary mapping text to True or False.\n",
        "  - backprop determines if the backward phase should be run.\n",
        "  '''\n",
        "  items = list(data.items())\n",
        "  random.shuffle(items)\n",
        "\n",
        "  loss = 0\n",
        "  num_correct = 0\n",
        "\n",
        "  for x, y in items:\n",
        "    inputs = createInputs(x)\n",
        "    target = int(y)\n",
        "\n",
        "    # Forward\n",
        "    out, _ = rnn.forward(inputs)\n",
        "    probs = softmax(out)\n",
        "\n",
        "    # Calculate loss / accuracy\n",
        "    loss -= np.log(probs[target])\n",
        "    num_correct += int(np.argmax(probs) == target)\n",
        "\n",
        "    if backprop:\n",
        "      # Build dL/dy\n",
        "      d_L_d_y = probs\n",
        "      d_L_d_y[target] -= 1\n",
        "\n",
        "      # Backward\n",
        "      rnn.backprop(d_L_d_y)\n",
        "\n",
        "  return loss / len(data), num_correct / len(data)\n"
      ],
      "metadata": {
        "id": "nlPRbzk-xz67"
      },
      "execution_count": null,
      "outputs": []
    },
    {
      "cell_type": "code",
      "source": [
        "for x, y in train_data.items():\n",
        "  inputs = createInputs(x)\n",
        "  target = int(y)\n",
        "\n",
        "  # Forward\n",
        "  out, _ = rnn.forward(inputs)\n",
        "  probs = softmax(out)\n",
        "\n",
        "  # Build dL/dy\n",
        "  d_L_d_y = probs\n",
        "  d_L_d_y[target] -= 1\n",
        "\n",
        "  # Backward\n",
        "  rnn.backprop(d_L_d_y)"
      ],
      "metadata": {
        "id": "jnZhDrH3Sw8Y"
      },
      "execution_count": null,
      "outputs": []
    },
    {
      "cell_type": "code",
      "source": [
        "\n",
        "for epoch in range(1000):\n",
        "  train_loss, train_acc = processData(train_data)\n",
        "\n",
        "  if epoch % 100 == 99:\n",
        "    print('--- Epoch %d' % (epoch + 1))\n",
        "    print('Train:\\tLoss %.3f | Accuracy: %.3f' % (train_loss, train_acc))\n",
        "\n",
        "    test_loss, test_acc = processData(test_data, backprop=False)\n",
        "    print('Test:\\tLoss %.3f | Accuracy: %.3f' % (test_loss, test_acc))\n"
      ],
      "metadata": {
        "id": "oVbUYtTUp8qB",
        "colab": {
          "base_uri": "https://localhost:8080/"
        },
        "outputId": "cfb57e62-67e1-4153-82ac-4cd784076c8a"
      },
      "execution_count": null,
      "outputs": [
        {
          "output_type": "stream",
          "name": "stdout",
          "text": [
            "--- Epoch 100\n",
            "Train:\tLoss 0.687 | Accuracy: 0.603\n",
            "Test:\tLoss 0.698 | Accuracy: 0.500\n",
            "--- Epoch 200\n",
            "Train:\tLoss 0.657 | Accuracy: 0.672\n",
            "Test:\tLoss 0.733 | Accuracy: 0.450\n",
            "--- Epoch 300\n",
            "Train:\tLoss 0.626 | Accuracy: 0.621\n",
            "Test:\tLoss 0.667 | Accuracy: 0.650\n",
            "--- Epoch 400\n",
            "Train:\tLoss 0.406 | Accuracy: 0.810\n",
            "Test:\tLoss 0.661 | Accuracy: 0.700\n",
            "--- Epoch 500\n",
            "Train:\tLoss 0.295 | Accuracy: 0.862\n",
            "Test:\tLoss 0.550 | Accuracy: 0.750\n",
            "--- Epoch 600\n",
            "Train:\tLoss 0.146 | Accuracy: 0.948\n",
            "Test:\tLoss 0.132 | Accuracy: 1.000\n",
            "--- Epoch 700\n",
            "Train:\tLoss 0.008 | Accuracy: 1.000\n",
            "Test:\tLoss 0.017 | Accuracy: 1.000\n",
            "--- Epoch 800\n",
            "Train:\tLoss 0.003 | Accuracy: 1.000\n",
            "Test:\tLoss 0.011 | Accuracy: 1.000\n",
            "--- Epoch 900\n",
            "Train:\tLoss 0.002 | Accuracy: 1.000\n",
            "Test:\tLoss 0.007 | Accuracy: 1.000\n",
            "--- Epoch 1000\n",
            "Train:\tLoss 0.001 | Accuracy: 1.000\n",
            "Test:\tLoss 0.006 | Accuracy: 1.000\n"
          ]
        }
      ]
    },
    {
      "cell_type": "code",
      "source": [],
      "metadata": {
        "id": "bRm6L6YDx5Gr"
      },
      "execution_count": null,
      "outputs": []
    }
  ]
}